{
  "nbformat": 4,
  "nbformat_minor": 0,
  "metadata": {
    "colab": {
      "name": "[Week1]Assm_1",
      "provenance": []
    },
    "kernelspec": {
      "name": "python3",
      "display_name": "Python 3"
    }
  },
  "cells": [
    {
      "cell_type": "code",
      "metadata": {
        "id": "4_SEYzdmmIIK"
      },
      "source": [
        "import matplotlib.pyplot as plt"
      ],
      "execution_count": 7,
      "outputs": []
    },
    {
      "cell_type": "markdown",
      "metadata": {
        "id": "36b1ucjGjh0D"
      },
      "source": [
        "**【Problem 1] Number of grains of rice on the 100th day**"
      ]
    },
    {
      "cell_type": "code",
      "metadata": {
        "colab": {
          "base_uri": "https://localhost:8080/"
        },
        "id": "n1o2zzpTi6Y2",
        "outputId": "655a94f2-61bc-430b-dc5f-14d50c3e90c7"
      },
      "source": [
        "print(\"Grains of rice you receive in total on the 100th day: \", 2**99)"
      ],
      "execution_count": 1,
      "outputs": [
        {
          "output_type": "stream",
          "text": [
            "Grains of rice you receive in total on the 100th day:  633825300114114700748351602688\n"
          ],
          "name": "stdout"
        }
      ]
    },
    {
      "cell_type": "markdown",
      "metadata": {
        "id": "IiOFe4VdkCSo"
      },
      "source": [
        "**【Problem 2] Number of rice grains outside of the 100th day**"
      ]
    },
    {
      "cell_type": "code",
      "metadata": {
        "id": "jhY8qdg3mg1o"
      },
      "source": [
        "data = []"
      ],
      "execution_count": 39,
      "outputs": []
    },
    {
      "cell_type": "code",
      "metadata": {
        "colab": {
          "base_uri": "https://localhost:8080/"
        },
        "id": "n1bs1cz8kHFW",
        "outputId": "d09d5235-6277-4b35-9fe4-d21980313f5b"
      },
      "source": [
        "def compute_sorori_shinzaemon(day=100):\n",
        "    list_n_grains = 2**(day -1)\n",
        "    list_total_grains = 0\n",
        "    for n in range(day):\n",
        "      list_total_grains += 2**n\n",
        "      data.append(list_total_grains)\n",
        "      print(data)\n",
        "    return list_n_grains, list_total_grains\n",
        "\n",
        "list_n_grains, list_total_grains = compute_sorori_shinzaemon(day=15)"
      ],
      "execution_count": 40,
      "outputs": [
        {
          "output_type": "stream",
          "text": [
            "[1]\n",
            "[1, 3]\n",
            "[1, 3, 7]\n",
            "[1, 3, 7, 15]\n",
            "[1, 3, 7, 15, 31]\n",
            "[1, 3, 7, 15, 31, 63]\n",
            "[1, 3, 7, 15, 31, 63, 127]\n",
            "[1, 3, 7, 15, 31, 63, 127, 255]\n",
            "[1, 3, 7, 15, 31, 63, 127, 255, 511]\n",
            "[1, 3, 7, 15, 31, 63, 127, 255, 511, 1023]\n",
            "[1, 3, 7, 15, 31, 63, 127, 255, 511, 1023, 2047]\n",
            "[1, 3, 7, 15, 31, 63, 127, 255, 511, 1023, 2047, 4095]\n",
            "[1, 3, 7, 15, 31, 63, 127, 255, 511, 1023, 2047, 4095, 8191]\n",
            "[1, 3, 7, 15, 31, 63, 127, 255, 511, 1023, 2047, 4095, 8191, 16383]\n",
            "[1, 3, 7, 15, 31, 63, 127, 255, 511, 1023, 2047, 4095, 8191, 16383, 32767]\n"
          ],
          "name": "stdout"
        }
      ]
    },
    {
      "cell_type": "code",
      "metadata": {
        "colab": {
          "base_uri": "https://localhost:8080/",
          "height": 295
        },
        "id": "fJAOPPl7mHJg",
        "outputId": "08232f17-f704-4a60-80af-e06d36629407"
      },
      "source": [
        "plt.title(\"sorori shinzaemon\")\n",
        "plt.xlabel(\"number of days\")\n",
        "plt.ylabel(\"number of grains\")\n",
        "plt.plot(data, color='green', marker='o',\n",
        "         linestyle='dotted', linewidth=3, markersize=0.5)\n",
        "\n",
        "plt.show()"
      ],
      "execution_count": 41,
      "outputs": [
        {
          "output_type": "display_data",
          "data": {
            "image/png": "[encoded data removed]",
            "text/plain": [
              "<Figure size 432x288 with 1 Axes>"
            ]
          },
          "metadata": {
            "tags": [],
            "needs_background": "light"
          }
        }
      ]
    },
    {
      "cell_type": "markdown",
      "metadata": {
        "id": "v01OYgmCpwaH"
      },
      "source": [
        "**【Problem 3] How many people can live for how many days with the rice we get?**"
      ]
    },
    {
      "cell_type": "markdown",
      "metadata": {
        "id": "DnFLh9YgquK0"
      },
      "source": [
        "1 grain = 1/64 gram\n",
        "\n",
        "1 person eat 198.447 gram/day\n",
        "\n",
        "=> 1 person eat 12704.0 grains/day"
      ]
    },
    {
      "cell_type": "code",
      "metadata": {
        "id": "-2QxYsSKpyL6"
      },
      "source": [
        "n = 12704\n",
        "\n",
        "def cal_days(n_grains, n_people):\n",
        "  return n_grains/(n_people*n)"
      ],
      "execution_count": 44,
      "outputs": []
    },
    {
      "cell_type": "code",
      "metadata": {
        "colab": {
          "base_uri": "https://localhost:8080/"
        },
        "id": "6DzM0r06tsbT",
        "outputId": "a8e6e258-8267-40e6-9c96-25f30461998a"
      },
      "source": [
        "print(\"Number of days that 10 people can survive with 1000000 grains is:\", cal_days(1000000, 10), \"days\")"
      ],
      "execution_count": 47,
      "outputs": [
        {
          "output_type": "stream",
          "text": [
            "Number of days that 10 people can survive with 1000000 grains is: 7.871536523929471 days\n"
          ],
          "name": "stdout"
        }
      ]
    }
  ]
}