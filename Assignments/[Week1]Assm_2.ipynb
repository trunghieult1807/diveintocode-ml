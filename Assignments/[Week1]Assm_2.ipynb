{
  "nbformat": 4,
  "nbformat_minor": 0,
  "metadata": {
    "colab": {
      "name": "[Week1]Assm_2",
      "provenance": [],
      "collapsed_sections": []
    },
    "kernelspec": {
      "name": "python3",
      "display_name": "Python 3"
    }
  },
  "cells": [
    {
      "cell_type": "code",
      "metadata": {
        "id": "cfciI0IMXTs8"
      },
      "source": [
        "import math\n",
        "t_0 = 0.00008\n",
        "t = 3776\n",
        "distance_to_nearest_non_sun_start = 4.22 * 9.461e+15\n",
        "distance_to_moon = 384400*10**3"
      ],
      "execution_count": null,
      "outputs": []
    },
    {
      "cell_type": "markdown",
      "metadata": {
        "id": "HsSNVyXRW7me"
      },
      "source": [
        "**[Problem 1] Minimum number of folds over Mt. Fuji**\n"
      ]
    },
    {
      "cell_type": "code",
      "metadata": {
        "colab": {
          "base_uri": "https://localhost:8080/"
        },
        "id": "I_kDnFZaW65b",
        "outputId": "e463e40b-ad52-4d55-e0ba-e30c857d68d3"
      },
      "source": [
        "x = math.ceil(math.log2(t/t_0) - 1)\n",
        "print(\"Number of times that a sheet of paper is folded before its thickness exceeds\", t, \"m is: \", x)"
      ],
      "execution_count": null,
      "outputs": [
        {
          "output_type": "stream",
          "text": [
            "Number of times that a sheet of paper is folded before its thickness exceeds 3776 m is:  25\n"
          ],
          "name": "stdout"
        }
      ]
    },
    {
      "cell_type": "markdown",
      "metadata": {
        "id": "eFUQSM_kZcrl"
      },
      "source": [
        "**[Problem 2] Creating a function corresponding to an arbitrary thickness**"
      ]
    },
    {
      "cell_type": "code",
      "metadata": {
        "id": "JnUnjIwoZcZ8"
      },
      "source": [
        "def fold (lt, lt_0 = 0.00008):\n",
        "  return math.ceil(math.log2(lt/lt_0) - 1)\n"
      ],
      "execution_count": null,
      "outputs": []
    },
    {
      "cell_type": "code",
      "metadata": {
        "colab": {
          "base_uri": "https://localhost:8080/"
        },
        "id": "m52SMEtlcxft",
        "outputId": "bf34870f-d3f8-43f2-e093-5a32a7c6e3bb"
      },
      "source": [
        "print(\"Number of times that a sheet of paper is folded before reaching the nearest non sun star is: \", fold(distance_to_nearest_non_sun_start))"
      ],
      "execution_count": null,
      "outputs": [
        {
          "output_type": "stream",
          "text": [
            "Number of times that a sheet of paper is folded before reaching the nearest non sun star is:  68\n"
          ],
          "name": "stdout"
        }
      ]
    },
    {
      "cell_type": "markdown",
      "metadata": {
        "id": "X21UdTLZeBYJ"
      },
      "source": [
        "**[Problem 3] Required paper length**"
      ]
    },
    {
      "cell_type": "code",
      "metadata": {
        "id": "JjTEa1dIeBGS"
      },
      "source": [
        "def get_length(desired_thickness, lt_0 = 0.00008):\n",
        "  return math.ceil(math.pi*(desired_thickness+4*lt_0)*(desired_thickness - 1)/(6*lt_0))"
      ],
      "execution_count": null,
      "outputs": []
    },
    {
      "cell_type": "code",
      "metadata": {
        "colab": {
          "base_uri": "https://localhost:8080/"
        },
        "id": "HjAtPJPXhdAt",
        "outputId": "93e8008b-97d8-43e7-83c3-3f2f88127886"
      },
      "source": [
        "print(\"The length of paper needed to reach the Moon: \", get_length(distance_to_moon), \"m\")"
      ],
      "execution_count": null,
      "outputs": [
        {
          "output_type": "stream",
          "text": [
            "The length of paper needed to reach the Moon:  967108927163545944064 m\n"
          ],
          "name": "stdout"
        }
      ]
    }
  ]
}