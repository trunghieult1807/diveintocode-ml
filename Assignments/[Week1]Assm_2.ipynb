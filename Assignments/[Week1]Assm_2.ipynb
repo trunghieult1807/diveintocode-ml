{
  "nbformat": 4,
  "nbformat_minor": 0,
  "metadata": {
    "colab": {
      "name": "[Week1]Assm_2",
      "provenance": [],
      "collapsed_sections": []
    },
    "kernelspec": {
      "name": "python3",
      "display_name": "Python 3"
    }
  },
  "cells": [
    {
      "cell_type": "code",
      "metadata": {
        "id": "cfciI0IMXTs8"
      },
      "source": [
        "import math\n",
        "t_0 = 0.00008\n",
        "t = 3776\n",
        "distance_to_nearest_non_sun_start = 4.22 * 9.461e+15\n",
        "distance_to_moon = 384400*10**3"
      ],
      "execution_count": 5,
      "outputs": []
    },
    {
      "cell_type": "markdown",
      "metadata": {
        "id": "HsSNVyXRW7me"
      },
      "source": [
        "**[Problem 1] Minimum number of folds over Mt. Fuji**\n"
      ]
    },
    {
      "cell_type": "code",
      "metadata": {
        "colab": {
          "base_uri": "https://localhost:8080/"
        },
        "id": "I_kDnFZaW65b",
        "outputId": "b55c561b-bc34-4f6e-af05-7dba1fae8f86"
      },
      "source": [
        "x = math.ceil(math.log2(t/t_0) - 1)\n",
        "print(\"Number of times that a sheet of paper is folded before its thickness exceeds\", t, \"m is: \", x)"
      ],
      "execution_count": 6,
      "outputs": [
        {
          "output_type": "stream",
          "text": [
            "Number of times that a sheet of paper is folded before its thickness exceeds 3776 m is:  25\n"
          ],
          "name": "stdout"
        }
      ]
    },
    {
      "cell_type": "markdown",
      "metadata": {
        "id": "eFUQSM_kZcrl"
      },
      "source": [
        "**[Problem 2] Creating a function corresponding to an arbitrary thickness**"
      ]
    },
    {
      "cell_type": "code",
      "metadata": {
        "id": "JnUnjIwoZcZ8"
      },
      "source": [
        "def fold (lt, lt_0 = 0.00008):\n",
        "  return math.ceil(math.log2(lt/lt_0) - 1)\n"
      ],
      "execution_count": 7,
      "outputs": []
    },
    {
      "cell_type": "code",
      "metadata": {
        "colab": {
          "base_uri": "https://localhost:8080/"
        },
        "id": "m52SMEtlcxft",
        "outputId": "d3c3c65e-b5cf-4bc2-e593-734efab2c9b3"
      },
      "source": [
        "print(\"Number of times that a sheet of paper is folded before reaching the nearest non sun star is: \", fold(distance_to_nearest_non_sun_start))"
      ],
      "execution_count": 8,
      "outputs": [
        {
          "output_type": "stream",
          "text": [
            "Number of times that a sheet of paper is folded before reaching the nearest non sun star is:  68\n"
          ],
          "name": "stdout"
        }
      ]
    },
    {
      "cell_type": "markdown",
      "metadata": {
        "id": "X21UdTLZeBYJ"
      },
      "source": [
        "**[Problem 3] Required paper length**"
      ]
    },
    {
      "cell_type": "code",
      "metadata": {
        "id": "JjTEa1dIeBGS"
      },
      "source": [
        "def get_length(desired_thickness, lt_0 = 0.00008):\n",
        "  return math.ceil(math.pi*(desired_thickness+4*lt_0)*(desired_thickness - 1)/(6*lt_0))"
      ],
      "execution_count": 9,
      "outputs": []
    },
    {
      "cell_type": "code",
      "metadata": {
        "colab": {
          "base_uri": "https://localhost:8080/"
        },
        "id": "HjAtPJPXhdAt",
        "outputId": "edb8d180-d3b7-49ec-8e9b-ffded8ba856e"
      },
      "source": [
        "print(\"The length of paper needed to reach the Moon: \", get_length(distance_to_moon), \"m\")\n",
        "print(\"The length of paper needed to reach the closest star: \", get_length(distance_to_nearest_non_sun_start), \"m\")\n",
        "print(\"The length of paper needed to reach the Mt Fuji: \", get_length(t), \"m\")"
      ],
      "execution_count": 11,
      "outputs": [
        {
          "output_type": "stream",
          "text": [
            "The length of paper needed to reach the Moon:  967108927163545944064 m\n",
            "The length of paper needed to reach the closest star:  10432961919641263076332649423440969728 m\n",
            "The length of paper needed to reach the Mt Fuji:  93294837743 m\n"
          ],
          "name": "stdout"
        }
      ]
    }
  ]
}