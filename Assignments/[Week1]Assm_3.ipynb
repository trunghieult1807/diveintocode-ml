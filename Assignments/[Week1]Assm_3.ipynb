{
  "nbformat": 4,
  "nbformat_minor": 0,
  "metadata": {
    "colab": {
      "name": "[Week1]Assm_3.ipynb",
      "provenance": [],
      "collapsed_sections": []
    },
    "kernelspec": {
      "name": "python3",
      "display_name": "Python 3"
    }
  },
  "cells": [
    {
      "cell_type": "markdown",
      "metadata": {
        "id": "GD2-Y-n1Xh1O"
      },
      "source": [
        "**[Problem] The day when chestnut buns cover the solar system**\n",
        "\n",
        "\n",
        "0min => 1\n",
        "\n",
        "5min => 2\n",
        "\n",
        "10min => 4\n",
        "\n",
        "15min => 8\n",
        "\n",
        "(5n)min => 2^n"
      ]
    },
    {
      "cell_type": "code",
      "metadata": {
        "id": "D_JH4nLUbvA4"
      },
      "source": [
        "import math"
      ],
      "execution_count": 4,
      "outputs": []
    },
    {
      "cell_type": "code",
      "metadata": {
        "id": "dUQ1nQ4qjwdE"
      },
      "source": [
        "volume_of_a_chestnut_bun = 0.0001       \n",
        "# in meters\n",
        "volume_of_the_unisverse = 3.58e+80\n",
        "# in meters"
      ],
      "execution_count": 5,
      "outputs": []
    },
    {
      "cell_type": "code",
      "metadata": {
        "id": "SMmpNuNNc0E0"
      },
      "source": [
        "def cal_time(v1, v2):\n",
        "  return 5 * math.ceil(math.log2(v1 / v2))"
      ],
      "execution_count": 12,
      "outputs": []
    },
    {
      "cell_type": "code",
      "metadata": {
        "colab": {
          "base_uri": "https://localhost:8080/"
        },
        "id": "QE17imZoeGXU",
        "outputId": "06e6e85a-35d5-4d7b-99d7-f4508b46f9eb"
      },
      "source": [
        "print(\"It takes\", cal_time(volume_of_the_unisverse, volume_of_a_chestnut_bun) ,\"mins to cover the solar system with chestnut buns\")\n",
        "\n"
      ],
      "execution_count": 11,
      "outputs": [
        {
          "output_type": "stream",
          "text": [
            "It takes 1404.4095977901397 to cover the solar system with chestnut buns\n"
          ],
          "name": "stdout"
        }
      ]
    },
    {
      "cell_type": "code",
      "metadata": {
        "colab": {
          "base_uri": "https://localhost:8080/"
        },
        "id": "8rpuvumQfkME",
        "outputId": "8af10a14-ebb0-4021-a45a-6676b60a5b82"
      },
      "source": [
        "volume_of_tokyo_dome = 1.24e+9\n",
        "# in meters\n",
        "volume_of_a_ball = 4.8e-3\n",
        "# in meters"
      ],
      "execution_count": 14,
      "outputs": [
        {
          "output_type": "stream",
          "text": [
            "0.0048\n"
          ],
          "name": "stdout"
        }
      ]
    },
    {
      "cell_type": "code",
      "metadata": {
        "colab": {
          "base_uri": "https://localhost:8080/"
        },
        "id": "Odt4nM4DgRsq",
        "outputId": "649d6741-3d3d-4c2a-ff3c-8cebca57692d"
      },
      "source": [
        "print(\"It takes\", cal_time(volume_of_tokyo_dome, volume_of_a_ball) ,\"mins to cover Tokyo Dome\")\n"
      ],
      "execution_count": 15,
      "outputs": [
        {
          "output_type": "stream",
          "text": [
            "It takes 190 mins to cover Tokyo Dome\n"
          ],
          "name": "stdout"
        }
      ]
    }
  ]
}