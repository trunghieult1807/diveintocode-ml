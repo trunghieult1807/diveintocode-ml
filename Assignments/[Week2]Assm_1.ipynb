{
  "nbformat": 4,
  "nbformat_minor": 0,
  "metadata": {
    "colab": {
      "name": "[Week2]Assm_1",
      "provenance": [],
      "collapsed_sections": []
    },
    "kernelspec": {
      "name": "python3",
      "display_name": "Python 3"
    },
    "language_info": {
      "name": "python"
    }
  },
  "cells": [
    {
      "cell_type": "code",
      "metadata": {
        "id": "ZH8Cx9HuhoCX"
      },
      "source": [
        "import numpy as np\n",
        "import matplotlib.pyplot as plt"
      ],
      "execution_count": null,
      "outputs": []
    },
    {
      "cell_type": "markdown",
      "metadata": {
        "id": "pnADoXarmkMZ"
      },
      "source": [
        "**[Problem 1] Number of wheat on a 2 x 2 square chess board**\n",
        "\n",
        "Represent a 2 x 2 square chessboard by ndarray and calculate the number of wheat in each square. After placing one wheat on the upper left square, proceed to two to the right, four to the lower left, and eight to the lower right.\n",
        "\n",
        "\n",
        "Please modify the shape of the ndarray created with the sample code."
      ]
    },
    {
      "cell_type": "code",
      "metadata": {
        "id": "MO5IVPTGirNz"
      },
      "source": [
        "n_col = 2\n",
        "n_row = 2\n",
        "small_board_list = [1]\n",
        "for _ in range(n_col*n_row - 1):\n",
        "    small_board_list.append(2*small_board_list[-1])\n",
        "\n",
        "board_2x2 = np.reshape(small_board_list, (2,2))"
      ],
      "execution_count": null,
      "outputs": []
    },
    {
      "cell_type": "code",
      "metadata": {
        "colab": {
          "base_uri": "https://localhost:8080/"
        },
        "id": "KKEtQ3GHjVth",
        "outputId": "cea2050c-11c7-4e1a-a970-e306b04f06ec"
      },
      "source": [
        "\n",
        "print(\"Arrange wheat on a plate of 2x2 board：\\n{}\".format(board))"
      ],
      "execution_count": null,
      "outputs": [
        {
          "output_type": "stream",
          "text": [
            "Arrange wheat on a plate of 2x2 board：\n",
            "[[1 2]\n",
            " [4 8]]\n"
          ],
          "name": "stdout"
        }
      ]
    },
    {
      "cell_type": "markdown",
      "metadata": {
        "id": "CvlWfx_g97qv"
      },
      "source": [
        "**[Problem 2] Expansion to n × m mass**\n",
        "\n",
        "Create a function that returns a ndarray containing the number of wheat on an nxm chess board. Then use this function to find the number of wheat on the 8x8 square chess board.\n",
        "\n"
      ]
    },
    {
      "cell_type": "code",
      "metadata": {
        "id": "zRRKrjlhoe8O"
      },
      "source": [
        "def board_nxm(n, m):\n",
        "  small_board_list = [1]\n",
        "  for _ in range(n*m - 1):\n",
        "    small_board_list.append(2*small_board_list[-1])\n",
        "  return np.reshape(small_board_list, (n,m))"
      ],
      "execution_count": null,
      "outputs": []
    },
    {
      "cell_type": "code",
      "metadata": {
        "colab": {
          "base_uri": "https://localhost:8080/"
        },
        "id": "FfqL5tAqmlZk",
        "outputId": "d96671cd-bd16-48b5-865b-d9ae060ccab5"
      },
      "source": [
        "print(\"Arrange wheat on a plate of 8x8 board：\\n{}\".format(board_nxm(8,8)))"
      ],
      "execution_count": null,
      "outputs": [
        {
          "output_type": "stream",
          "text": [
            "Arrange wheat on a plate of 8x8 board：\n",
            "[[1.00000000e+00 2.00000000e+00 4.00000000e+00 8.00000000e+00\n",
            "  1.60000000e+01 3.20000000e+01 6.40000000e+01 1.28000000e+02]\n",
            " [2.56000000e+02 5.12000000e+02 1.02400000e+03 2.04800000e+03\n",
            "  4.09600000e+03 8.19200000e+03 1.63840000e+04 3.27680000e+04]\n",
            " [6.55360000e+04 1.31072000e+05 2.62144000e+05 5.24288000e+05\n",
            "  1.04857600e+06 2.09715200e+06 4.19430400e+06 8.38860800e+06]\n",
            " [1.67772160e+07 3.35544320e+07 6.71088640e+07 1.34217728e+08\n",
            "  2.68435456e+08 5.36870912e+08 1.07374182e+09 2.14748365e+09]\n",
            " [4.29496730e+09 8.58993459e+09 1.71798692e+10 3.43597384e+10\n",
            "  6.87194767e+10 1.37438953e+11 2.74877907e+11 5.49755814e+11]\n",
            " [1.09951163e+12 2.19902326e+12 4.39804651e+12 8.79609302e+12\n",
            "  1.75921860e+13 3.51843721e+13 7.03687442e+13 1.40737488e+14]\n",
            " [2.81474977e+14 5.62949953e+14 1.12589991e+15 2.25179981e+15\n",
            "  4.50359963e+15 9.00719925e+15 1.80143985e+16 3.60287970e+16]\n",
            " [7.20575940e+16 1.44115188e+17 2.88230376e+17 5.76460752e+17\n",
            "  1.15292150e+18 2.30584301e+18 4.61168602e+18 9.22337204e+18]]\n"
          ],
          "name": "stdout"
        }
      ]
    },
    {
      "cell_type": "markdown",
      "metadata": {
        "id": "2LD1_ZkK-BHy"
      },
      "source": [
        "**[Problem 3] Total number of wheat**\n",
        "\n",
        "Find the total number of wheat on a chess board of 8 x 8 squares. Also, find the average of each column and visualize it in a bar chart.\n",
        "\n"
      ]
    },
    {
      "cell_type": "code",
      "metadata": {
        "colab": {
          "base_uri": "https://localhost:8080/",
          "height": 295
        },
        "id": "NxdJ1lfD_CIY",
        "outputId": "65485c1c-3124-4429-8dc8-6636482e6a57"
      },
      "source": [
        "%matplotlib inline\n",
        "plt.xlabel(\"column\")\n",
        "plt.ylabel(\"number\")\n",
        "plt.title(\"number in each column\")\n",
        "plt.bar(np.arange(1,9), board_nxm(8,8).sum(axis=0))\n",
        "plt.show()"
      ],
      "execution_count": null,
      "outputs": [
        {
          "output_type": "display_data",
          "data": {
            "image/png": "[encoded data removed]",
            "text/plain": [
              "<Figure size 432x288 with 1 Axes>"
            ]
          },
          "metadata": {
            "tags": [],
            "needs_background": "light"
          }
        }
      ]
    },
    {
      "cell_type": "markdown",
      "metadata": {
        "id": "cyHSTo_v-HOC"
      },
      "source": [
        "**[Problem 4] Heat map of the number of wheat**\n",
        "\n",
        "Visualize the number of wheat on the 8x8 chess board as a heat map"
      ]
    },
    {
      "cell_type": "code",
      "metadata": {
        "colab": {
          "base_uri": "https://localhost:8080/",
          "height": 295
        },
        "id": "vf0BFAnF-M7G",
        "outputId": "2096c0bb-38ed-4aa3-f2a6-e78cd6e8225b"
      },
      "source": [
        "plt.xlabel(\"column\")\n",
        "plt.ylabel(\"row\")\n",
        "plt.title(\"heatmap\")\n",
        "plt.pcolor(board_nxm(8,8))\n",
        "plt.show()"
      ],
      "execution_count": null,
      "outputs": [
        {
          "output_type": "display_data",
          "data": {
            "image/png": "[encoded data removed]",
            "text/plain": [
              "<Figure size 432x288 with 1 Axes>"
            ]
          },
          "metadata": {
            "tags": [],
            "needs_background": "light"
          }
        }
      ]
    },
    {
      "cell_type": "markdown",
      "metadata": {
        "id": "pByeDILQ-S0Z"
      },
      "source": [
        "**[Problem 5] How many times is the second half as long as the first half?**\n",
        "\n",
        "Find how many times the number of wheat in the second half of the chessboard is greater than the number of wheat in the first half. The first half is lines 0 to 3 of the array, and the second half is lines 4 to 7"
      ]
    },
    {
      "cell_type": "code",
      "metadata": {
        "colab": {
          "base_uri": "https://localhost:8080/"
        },
        "id": "9Vp15V2fEwho",
        "outputId": "5ee830bf-63be-44ec-d613-f1d1d9b34513"
      },
      "source": [
        "first_half = np.sum(board_nxm(4,4))\n",
        "second_half = np.sum(board_nxm(8,8)) - np.sum(board_nxm(4,4))\n",
        "print(\"Number of wheat in first half:\", first_half)\n",
        "print(\"Number of wheat in first half:\", second_half)\n",
        "print(\"The number of wheat in the second half =\", second_half/first_half, \"times the number of wheat in the first half\")"
      ],
      "execution_count": null,
      "outputs": [
        {
          "output_type": "stream",
          "text": [
            "Number of wheat in first half: 65535\n",
            "Number of wheat in first half: 1.8446744073709486e+19\n",
            "The number of wheat in the second half = 281479271743488.0 time the number of wheat in the first half\n"
          ],
          "name": "stdout"
        }
      ]
    },
    {
      "cell_type": "markdown",
      "metadata": {
        "id": "g-91VIns-XBE"
      },
      "source": [
        "**[Problem 6] Expansion to n × m mass by another calculation method**\n",
        "\n",
        "Create a new function similar to Problem 2 that returns an ndarray containing the number of wheat squares on an n×m chessboard, one usingnp.append ()and one using broadcast.\n",
        "\n",
        "\n",
        "Use those functions again to find the number of wheat on an 8x8 square chess board."
      ]
    },
    {
      "cell_type": "code",
      "metadata": {
        "id": "3m6v9P58IYgi"
      },
      "source": [
        "def board_nxm_using_broadcast(n, m):\n",
        "  indices_of_squares = np.arange(n*m).astype(np.uint64)\n",
        "  board_ndarray = 2**indices_of_squares\n",
        "  return np.reshape(board_ndarray, (n,m))\n"
      ],
      "execution_count": null,
      "outputs": []
    },
    {
      "cell_type": "code",
      "metadata": {
        "colab": {
          "base_uri": "https://localhost:8080/"
        },
        "id": "BbZ03ktXMjgV",
        "outputId": "f54a2866-2739-4e73-847e-bc837fc7d6e1"
      },
      "source": [
        "\n",
        "print(\"Arrange wheat on a plate of 8x8 board：\\n{}\".format(board_nxm_using_broadcast(8,8)))"
      ],
      "execution_count": null,
      "outputs": [
        {
          "output_type": "stream",
          "text": [
            "Arrange wheat on a plate of 8x8 board：\n",
            "[[                  1                   2                   4\n",
            "                    8                  16                  32\n",
            "                   64                 128]\n",
            " [                256                 512                1024\n",
            "                 2048                4096                8192\n",
            "                16384               32768]\n",
            " [              65536              131072              262144\n",
            "               524288             1048576             2097152\n",
            "              4194304             8388608]\n",
            " [           16777216            33554432            67108864\n",
            "            134217728           268435456           536870912\n",
            "           1073741824          2147483648]\n",
            " [         4294967296          8589934592         17179869184\n",
            "          34359738368         68719476736        137438953472\n",
            "         274877906944        549755813888]\n",
            " [      1099511627776       2199023255552       4398046511104\n",
            "        8796093022208      17592186044416      35184372088832\n",
            "       70368744177664     140737488355328]\n",
            " [    281474976710656     562949953421312    1125899906842624\n",
            "     2251799813685248    4503599627370496    9007199254740992\n",
            "    18014398509481984   36028797018963968]\n",
            " [  72057594037927936  144115188075855872  288230376151711744\n",
            "   576460752303423488 1152921504606846976 2305843009213693952\n",
            "  4611686018427387904 9223372036854775808]]\n"
          ],
          "name": "stdout"
        }
      ]
    },
    {
      "cell_type": "markdown",
      "metadata": {
        "id": "vf6R35GSIXQo"
      },
      "source": [
        ""
      ]
    },
    {
      "cell_type": "markdown",
      "metadata": {
        "id": "sfXh_2id-e0-"
      },
      "source": [
        "**[Problem 7] Comparing calculation time**\n",
        "\n",
        "%% timeit Runs the code in the cell multiple times and outputs the average execution time."
      ]
    },
    {
      "cell_type": "code",
      "metadata": {
        "colab": {
          "base_uri": "https://localhost:8080/"
        },
        "id": "ybhVjE5I-mM2",
        "outputId": "c3fb8de3-8d63-4760-98c1-e804b7f1b93e"
      },
      "source": [
        "%%timeit\n",
        "board_nxm_using_broadcast(8,8)"
      ],
      "execution_count": null,
      "outputs": [
        {
          "output_type": "stream",
          "text": [
            "The slowest run took 14.44 times longer than the fastest. This could mean that an intermediate result is being cached.\n",
            "100000 loops, best of 5: 5.43 µs per loop\n"
          ],
          "name": "stdout"
        }
      ]
    },
    {
      "cell_type": "markdown",
      "metadata": {
        "id": "epSlDsajNjNw"
      },
      "source": [
        "1. 5.37 µs\n",
        "2. 5.5 µs\n",
        "3. 5.35 µs\n",
        "4. 5.41 µs\n",
        "5. 5.43 µs"
      ]
    },
    {
      "cell_type": "code",
      "metadata": {
        "colab": {
          "base_uri": "https://localhost:8080/"
        },
        "id": "pSWRtBhqOP-V",
        "outputId": "c523cb16-c807-4677-d5eb-9d78f7616af7"
      },
      "source": [
        "print(\"average execute time:\", (5.37+5.5+5.35+5.41+5.43)/5,\"µs\" )"
      ],
      "execution_count": null,
      "outputs": [
        {
          "output_type": "stream",
          "text": [
            "average execute time: 5.412 µs\n"
          ],
          "name": "stdout"
        }
      ]
    }
  ]
}