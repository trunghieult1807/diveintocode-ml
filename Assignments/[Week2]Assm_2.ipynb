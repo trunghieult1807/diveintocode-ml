{
  "nbformat": 4,
  "nbformat_minor": 0,
  "metadata": {
    "colab": {
      "name": "[Week2]Assm_2",
      "provenance": []
    },
    "kernelspec": {
      "name": "python3",
      "display_name": "Python 3"
    },
    "language_info": {
      "name": "python"
    }
  },
  "cells": [
    {
      "cell_type": "code",
      "metadata": {
        "id": "Y6o8PRXgcqit"
      },
      "source": [
        "import numpy as np\n",
        "import matplotlib.pyplot as plt"
      ],
      "execution_count": 2,
      "outputs": []
    },
    {
      "cell_type": "markdown",
      "metadata": {
        "id": "Veoc_t5kcv4F"
      },
      "source": [
        "**[Problem 1] Creation of random numbers**"
      ]
    },
    {
      "cell_type": "code",
      "metadata": {
        "id": "PsazNUsrgkuR"
      },
      "source": [
        "cov1 = [[1,0],\n",
        "       [0,1]]\n",
        "mean1 = [-3, 0]\n",
        "size = 500"
      ],
      "execution_count": 61,
      "outputs": []
    },
    {
      "cell_type": "code",
      "metadata": {
        "id": "rVYePVNLczyc"
      },
      "source": [
        "np.random.seed(0)\n",
        "dummy_data1 = np.random.multivariate_normal(mean1, cov1, size)\n"
      ],
      "execution_count": 62,
      "outputs": []
    },
    {
      "cell_type": "markdown",
      "metadata": {
        "id": "vSIfM1P6czJP"
      },
      "source": [
        "**[Problem 2] Visualization by scatter plot**"
      ]
    },
    {
      "cell_type": "code",
      "metadata": {
        "colab": {
          "base_uri": "https://localhost:8080/",
          "height": 285
        },
        "id": "-Hohu6Jwhma-",
        "outputId": "1c700074-019a-492a-e8fd-664c3dface3d"
      },
      "source": [
        "plt.scatter(dummy_data[:, 0], dummy_data[:, 1])"
      ],
      "execution_count": 33,
      "outputs": [
        {
          "output_type": "execute_result",
          "data": {
            "text/plain": [
              "<matplotlib.collections.PathCollection at 0x7fbf059aa890>"
            ]
          },
          "metadata": {
            "tags": []
          },
          "execution_count": 33
        },
        {
          "output_type": "display_data",
          "data": {
            "image/png": "[encoded data removed]",
            "text/plain": [
              "<Figure size 432x288 with 1 Axes>"
            ]
          },
          "metadata": {
            "tags": [],
            "needs_background": "light"
          }
        }
      ]
    },
    {
      "cell_type": "markdown",
      "metadata": {
        "id": "ziL-9KFwc8ZN"
      },
      "source": [
        "**[Problem 3] Visualization by histogram**"
      ]
    },
    {
      "cell_type": "code",
      "metadata": {
        "colab": {
          "base_uri": "https://localhost:8080/",
          "height": 1000
        },
        "id": "SnY0ovWnc8Qs",
        "outputId": "415b3fb3-8da7-4f72-dcbb-daf9660e63f0"
      },
      "source": [
        "plt.title(\"x1\")\n",
        "plt.hist(dummy_data[:,0],500, range = plt.xlim(left=-5,right=-1))"
      ],
      "execution_count": 38,
      "outputs": [
        {
          "output_type": "execute_result",
          "data": {
            "text/plain": [
              "(array([0., 0., 0., 0., 0., 0., 2., 1., 0., 0., 0., 0., 0., 0., 0., 0., 0.,\n",
              "        0., 0., 1., 0., 1., 0., 0., 0., 0., 0., 0., 1., 0., 1., 0., 1., 0.,\n",
              "        0., 0., 1., 1., 1., 1., 0., 0., 0., 0., 1., 2., 1., 0., 1., 1., 0.,\n",
              "        0., 1., 0., 0., 0., 1., 1., 0., 0., 0., 0., 1., 1., 0., 0., 0., 1.,\n",
              "        0., 2., 0., 1., 1., 0., 1., 0., 0., 0., 1., 0., 1., 1., 0., 2., 0.,\n",
              "        1., 1., 1., 1., 0., 1., 1., 0., 1., 0., 0., 2., 1., 0., 0., 0., 1.,\n",
              "        2., 1., 1., 2., 2., 1., 0., 1., 0., 1., 0., 0., 0., 0., 1., 0., 2.,\n",
              "        1., 2., 1., 1., 0., 2., 0., 1., 0., 1., 1., 1., 3., 2., 3., 0., 3.,\n",
              "        2., 1., 1., 1., 0., 1., 3., 3., 0., 1., 0., 1., 2., 3., 2., 1., 1.,\n",
              "        1., 3., 1., 2., 1., 1., 1., 1., 2., 1., 2., 3., 3., 2., 4., 2., 2.,\n",
              "        3., 1., 0., 0., 1., 3., 1., 0., 1., 0., 1., 1., 1., 3., 1., 1., 4.,\n",
              "        4., 0., 0., 1., 3., 1., 4., 1., 2., 1., 0., 1., 3., 3., 4., 0., 3.,\n",
              "        4., 2., 4., 0., 0., 0., 0., 5., 0., 1., 0., 2., 2., 1., 0., 2., 0.,\n",
              "        1., 4., 0., 2., 1., 2., 0., 0., 0., 1., 0., 1., 6., 0., 2., 3., 3.,\n",
              "        1., 1., 1., 2., 4., 1., 2., 2., 2., 2., 3., 0., 0., 4., 1., 1., 3.,\n",
              "        2., 3., 1., 1., 1., 0., 0., 1., 0., 1., 1., 0., 1., 1., 2., 2., 0.,\n",
              "        3., 0., 3., 0., 2., 2., 3., 2., 1., 0., 0., 1., 3., 4., 1., 2., 1.,\n",
              "        2., 1., 2., 1., 1., 4., 3., 1., 2., 0., 2., 2., 0., 0., 1., 0., 2.,\n",
              "        3., 2., 4., 1., 1., 1., 2., 1., 0., 3., 2., 1., 0., 0., 2., 0., 2.,\n",
              "        1., 0., 1., 2., 0., 1., 0., 2., 0., 0., 2., 2., 0., 4., 2., 0., 1.,\n",
              "        1., 1., 0., 1., 2., 2., 4., 0., 1., 0., 1., 2., 2., 0., 0., 1., 0.,\n",
              "        4., 2., 1., 0., 1., 0., 1., 0., 1., 3., 6., 3., 0., 1., 1., 1., 0.,\n",
              "        0., 0., 1., 1., 2., 1., 0., 0., 0., 1., 1., 1., 0., 3., 0., 0., 1.,\n",
              "        1., 1., 0., 2., 0., 0., 2., 1., 0., 0., 0., 0., 2., 0., 0., 0., 0.,\n",
              "        1., 0., 1., 0., 0., 0., 1., 3., 0., 0., 0., 0., 1., 1., 0., 1., 0.,\n",
              "        1., 1., 1., 0., 0., 0., 0., 0., 1., 0., 0., 4., 0., 0., 2., 0., 1.,\n",
              "        0., 0., 0., 0., 0., 0., 0., 1., 0., 0., 0., 0., 0., 0., 1., 0., 0.,\n",
              "        0., 0., 0., 0., 0., 0., 0., 1., 1., 0., 1., 1., 0., 0., 0., 0., 0.,\n",
              "        0., 0., 0., 0., 0., 1., 0., 2., 0., 1., 0., 0., 0., 0., 1., 0., 0.,\n",
              "        0., 1., 0., 0., 0., 0., 0.]),\n",
              " array([-5.   , -4.992, -4.984, -4.976, -4.968, -4.96 , -4.952, -4.944,\n",
              "        -4.936, -4.928, -4.92 , -4.912, -4.904, -4.896, -4.888, -4.88 ,\n",
              "        -4.872, -4.864, -4.856, -4.848, -4.84 , -4.832, -4.824, -4.816,\n",
              "        -4.808, -4.8  , -4.792, -4.784, -4.776, -4.768, -4.76 , -4.752,\n",
              "        -4.744, -4.736, -4.728, -4.72 , -4.712, -4.704, -4.696, -4.688,\n",
              "        -4.68 , -4.672, -4.664, -4.656, -4.648, -4.64 , -4.632, -4.624,\n",
              "        -4.616, -4.608, -4.6  , -4.592, -4.584, -4.576, -4.568, -4.56 ,\n",
              "        -4.552, -4.544, -4.536, -4.528, -4.52 , -4.512, -4.504, -4.496,\n",
              "        -4.488, -4.48 , -4.472, -4.464, -4.456, -4.448, -4.44 , -4.432,\n",
              "        -4.424, -4.416, -4.408, -4.4  , -4.392, -4.384, -4.376, -4.368,\n",
              "        -4.36 , -4.352, -4.344, -4.336, -4.328, -4.32 , -4.312, -4.304,\n",
              "        -4.296, -4.288, -4.28 , -4.272, -4.264, -4.256, -4.248, -4.24 ,\n",
              "        -4.232, -4.224, -4.216, -4.208, -4.2  , -4.192, -4.184, -4.176,\n",
              "        -4.168, -4.16 , -4.152, -4.144, -4.136, -4.128, -4.12 , -4.112,\n",
              "        -4.104, -4.096, -4.088, -4.08 , -4.072, -4.064, -4.056, -4.048,\n",
              "        -4.04 , -4.032, -4.024, -4.016, -4.008, -4.   , -3.992, -3.984,\n",
              "        -3.976, -3.968, -3.96 , -3.952, -3.944, -3.936, -3.928, -3.92 ,\n",
              "        -3.912, -3.904, -3.896, -3.888, -3.88 , -3.872, -3.864, -3.856,\n",
              "        -3.848, -3.84 , -3.832, -3.824, -3.816, -3.808, -3.8  , -3.792,\n",
              "        -3.784, -3.776, -3.768, -3.76 , -3.752, -3.744, -3.736, -3.728,\n",
              "        -3.72 , -3.712, -3.704, -3.696, -3.688, -3.68 , -3.672, -3.664,\n",
              "        -3.656, -3.648, -3.64 , -3.632, -3.624, -3.616, -3.608, -3.6  ,\n",
              "        -3.592, -3.584, -3.576, -3.568, -3.56 , -3.552, -3.544, -3.536,\n",
              "        -3.528, -3.52 , -3.512, -3.504, -3.496, -3.488, -3.48 , -3.472,\n",
              "        -3.464, -3.456, -3.448, -3.44 , -3.432, -3.424, -3.416, -3.408,\n",
              "        -3.4  , -3.392, -3.384, -3.376, -3.368, -3.36 , -3.352, -3.344,\n",
              "        -3.336, -3.328, -3.32 , -3.312, -3.304, -3.296, -3.288, -3.28 ,\n",
              "        -3.272, -3.264, -3.256, -3.248, -3.24 , -3.232, -3.224, -3.216,\n",
              "        -3.208, -3.2  , -3.192, -3.184, -3.176, -3.168, -3.16 , -3.152,\n",
              "        -3.144, -3.136, -3.128, -3.12 , -3.112, -3.104, -3.096, -3.088,\n",
              "        -3.08 , -3.072, -3.064, -3.056, -3.048, -3.04 , -3.032, -3.024,\n",
              "        -3.016, -3.008, -3.   , -2.992, -2.984, -2.976, -2.968, -2.96 ,\n",
              "        -2.952, -2.944, -2.936, -2.928, -2.92 , -2.912, -2.904, -2.896,\n",
              "        -2.888, -2.88 , -2.872, -2.864, -2.856, -2.848, -2.84 , -2.832,\n",
              "        -2.824, -2.816, -2.808, -2.8  , -2.792, -2.784, -2.776, -2.768,\n",
              "        -2.76 , -2.752, -2.744, -2.736, -2.728, -2.72 , -2.712, -2.704,\n",
              "        -2.696, -2.688, -2.68 , -2.672, -2.664, -2.656, -2.648, -2.64 ,\n",
              "        -2.632, -2.624, -2.616, -2.608, -2.6  , -2.592, -2.584, -2.576,\n",
              "        -2.568, -2.56 , -2.552, -2.544, -2.536, -2.528, -2.52 , -2.512,\n",
              "        -2.504, -2.496, -2.488, -2.48 , -2.472, -2.464, -2.456, -2.448,\n",
              "        -2.44 , -2.432, -2.424, -2.416, -2.408, -2.4  , -2.392, -2.384,\n",
              "        -2.376, -2.368, -2.36 , -2.352, -2.344, -2.336, -2.328, -2.32 ,\n",
              "        -2.312, -2.304, -2.296, -2.288, -2.28 , -2.272, -2.264, -2.256,\n",
              "        -2.248, -2.24 , -2.232, -2.224, -2.216, -2.208, -2.2  , -2.192,\n",
              "        -2.184, -2.176, -2.168, -2.16 , -2.152, -2.144, -2.136, -2.128,\n",
              "        -2.12 , -2.112, -2.104, -2.096, -2.088, -2.08 , -2.072, -2.064,\n",
              "        -2.056, -2.048, -2.04 , -2.032, -2.024, -2.016, -2.008, -2.   ,\n",
              "        -1.992, -1.984, -1.976, -1.968, -1.96 , -1.952, -1.944, -1.936,\n",
              "        -1.928, -1.92 , -1.912, -1.904, -1.896, -1.888, -1.88 , -1.872,\n",
              "        -1.864, -1.856, -1.848, -1.84 , -1.832, -1.824, -1.816, -1.808,\n",
              "        -1.8  , -1.792, -1.784, -1.776, -1.768, -1.76 , -1.752, -1.744,\n",
              "        -1.736, -1.728, -1.72 , -1.712, -1.704, -1.696, -1.688, -1.68 ,\n",
              "        -1.672, -1.664, -1.656, -1.648, -1.64 , -1.632, -1.624, -1.616,\n",
              "        -1.608, -1.6  , -1.592, -1.584, -1.576, -1.568, -1.56 , -1.552,\n",
              "        -1.544, -1.536, -1.528, -1.52 , -1.512, -1.504, -1.496, -1.488,\n",
              "        -1.48 , -1.472, -1.464, -1.456, -1.448, -1.44 , -1.432, -1.424,\n",
              "        -1.416, -1.408, -1.4  , -1.392, -1.384, -1.376, -1.368, -1.36 ,\n",
              "        -1.352, -1.344, -1.336, -1.328, -1.32 , -1.312, -1.304, -1.296,\n",
              "        -1.288, -1.28 , -1.272, -1.264, -1.256, -1.248, -1.24 , -1.232,\n",
              "        -1.224, -1.216, -1.208, -1.2  , -1.192, -1.184, -1.176, -1.168,\n",
              "        -1.16 , -1.152, -1.144, -1.136, -1.128, -1.12 , -1.112, -1.104,\n",
              "        -1.096, -1.088, -1.08 , -1.072, -1.064, -1.056, -1.048, -1.04 ,\n",
              "        -1.032, -1.024, -1.016, -1.008, -1.   ]),\n",
              " <a list of 500 Patch objects>)"
            ]
          },
          "metadata": {
            "tags": []
          },
          "execution_count": 38
        },
        {
          "output_type": "display_data",
          "data": {
            "image/png": "[encoded data removed]",
            "text/plain": [
              "<Figure size 432x288 with 1 Axes>"
            ]
          },
          "metadata": {
            "tags": [],
            "needs_background": "light"
          }
        }
      ]
    },
    {
      "cell_type": "code",
      "metadata": {
        "colab": {
          "base_uri": "https://localhost:8080/",
          "height": 1000
        },
        "cellView": "code",
        "id": "KZZGcep2km96",
        "outputId": "ef9f8c2c-d0ca-453b-e555-a7483194734e"
      },
      "source": [
        "plt.title(\"x2\")\n",
        "plt.hist(dummy_data[:,1],500, range = plt.xlim(left=-2,right=2))"
      ],
      "execution_count": 37,
      "outputs": [
        {
          "output_type": "execute_result",
          "data": {
            "text/plain": [
              "(array([0., 0., 1., 1., 0., 0., 0., 0., 0., 0., 0., 0., 0., 0., 1., 0., 0.,\n",
              "        0., 0., 0., 0., 1., 0., 0., 0., 1., 1., 2., 0., 0., 0., 0., 0., 0.,\n",
              "        1., 0., 0., 0., 0., 0., 1., 0., 3., 0., 0., 0., 0., 2., 1., 1., 0.,\n",
              "        0., 0., 1., 2., 0., 1., 2., 0., 0., 0., 1., 0., 0., 0., 0., 2., 0.,\n",
              "        1., 0., 1., 0., 2., 0., 1., 0., 0., 2., 1., 0., 1., 2., 1., 0., 0.,\n",
              "        1., 0., 1., 0., 1., 1., 0., 1., 0., 0., 1., 1., 0., 3., 0., 0., 2.,\n",
              "        2., 1., 0., 2., 0., 1., 1., 0., 2., 0., 2., 1., 1., 2., 0., 2., 1.,\n",
              "        0., 0., 0., 2., 0., 0., 2., 1., 2., 0., 2., 0., 1., 0., 0., 0., 2.,\n",
              "        0., 1., 3., 3., 1., 1., 1., 1., 1., 0., 2., 0., 2., 3., 2., 0., 0.,\n",
              "        0., 2., 0., 1., 2., 1., 0., 0., 2., 0., 2., 3., 0., 0., 3., 2., 0.,\n",
              "        0., 2., 0., 0., 0., 0., 3., 2., 1., 0., 1., 0., 2., 1., 2., 1., 3.,\n",
              "        0., 1., 1., 1., 3., 2., 1., 1., 3., 1., 0., 2., 3., 2., 3., 3., 2.,\n",
              "        2., 2., 2., 0., 0., 1., 3., 2., 4., 1., 2., 0., 1., 3., 1., 0., 4.,\n",
              "        0., 2., 4., 1., 1., 1., 3., 2., 0., 3., 3., 0., 1., 0., 5., 3., 2.,\n",
              "        0., 0., 4., 2., 0., 3., 3., 2., 1., 0., 0., 1., 2., 1., 5., 3., 1.,\n",
              "        0., 2., 3., 1., 1., 1., 4., 4., 0., 0., 2., 1., 1., 1., 2., 2., 2.,\n",
              "        2., 2., 3., 1., 1., 1., 0., 2., 3., 2., 1., 3., 2., 0., 0., 2., 2.,\n",
              "        4., 1., 2., 1., 1., 2., 0., 1., 4., 3., 2., 7., 2., 3., 1., 3., 1.,\n",
              "        2., 1., 0., 1., 1., 1., 1., 0., 0., 3., 0., 1., 0., 2., 0., 0., 2.,\n",
              "        1., 0., 1., 2., 2., 0., 1., 1., 2., 0., 0., 3., 2., 1., 0., 1., 0.,\n",
              "        2., 0., 0., 0., 0., 1., 0., 2., 2., 1., 2., 0., 3., 1., 0., 1., 1.,\n",
              "        0., 4., 0., 1., 1., 1., 1., 0., 1., 0., 2., 2., 0., 1., 2., 1., 0.,\n",
              "        2., 0., 0., 2., 1., 0., 1., 1., 0., 1., 3., 1., 2., 0., 0., 1., 1.,\n",
              "        1., 2., 0., 0., 0., 0., 0., 0., 0., 1., 1., 1., 0., 0., 1., 0., 0.,\n",
              "        0., 1., 0., 0., 5., 0., 1., 1., 1., 1., 0., 1., 1., 1., 0., 1., 0.,\n",
              "        0., 1., 0., 0., 1., 0., 1., 0., 2., 0., 1., 0., 0., 0., 1., 0., 0.,\n",
              "        2., 0., 1., 0., 1., 0., 0., 0., 0., 0., 0., 0., 0., 0., 0., 2., 1.,\n",
              "        0., 2., 0., 1., 0., 2., 0., 1., 1., 0., 0., 0., 0., 0., 1., 0., 0.,\n",
              "        0., 1., 0., 0., 0., 1., 0., 0., 0., 0., 1., 0., 1., 0., 0., 1., 1.,\n",
              "        1., 0., 0., 0., 0., 0., 1.]),\n",
              " array([-2.   , -1.992, -1.984, -1.976, -1.968, -1.96 , -1.952, -1.944,\n",
              "        -1.936, -1.928, -1.92 , -1.912, -1.904, -1.896, -1.888, -1.88 ,\n",
              "        -1.872, -1.864, -1.856, -1.848, -1.84 , -1.832, -1.824, -1.816,\n",
              "        -1.808, -1.8  , -1.792, -1.784, -1.776, -1.768, -1.76 , -1.752,\n",
              "        -1.744, -1.736, -1.728, -1.72 , -1.712, -1.704, -1.696, -1.688,\n",
              "        -1.68 , -1.672, -1.664, -1.656, -1.648, -1.64 , -1.632, -1.624,\n",
              "        -1.616, -1.608, -1.6  , -1.592, -1.584, -1.576, -1.568, -1.56 ,\n",
              "        -1.552, -1.544, -1.536, -1.528, -1.52 , -1.512, -1.504, -1.496,\n",
              "        -1.488, -1.48 , -1.472, -1.464, -1.456, -1.448, -1.44 , -1.432,\n",
              "        -1.424, -1.416, -1.408, -1.4  , -1.392, -1.384, -1.376, -1.368,\n",
              "        -1.36 , -1.352, -1.344, -1.336, -1.328, -1.32 , -1.312, -1.304,\n",
              "        -1.296, -1.288, -1.28 , -1.272, -1.264, -1.256, -1.248, -1.24 ,\n",
              "        -1.232, -1.224, -1.216, -1.208, -1.2  , -1.192, -1.184, -1.176,\n",
              "        -1.168, -1.16 , -1.152, -1.144, -1.136, -1.128, -1.12 , -1.112,\n",
              "        -1.104, -1.096, -1.088, -1.08 , -1.072, -1.064, -1.056, -1.048,\n",
              "        -1.04 , -1.032, -1.024, -1.016, -1.008, -1.   , -0.992, -0.984,\n",
              "        -0.976, -0.968, -0.96 , -0.952, -0.944, -0.936, -0.928, -0.92 ,\n",
              "        -0.912, -0.904, -0.896, -0.888, -0.88 , -0.872, -0.864, -0.856,\n",
              "        -0.848, -0.84 , -0.832, -0.824, -0.816, -0.808, -0.8  , -0.792,\n",
              "        -0.784, -0.776, -0.768, -0.76 , -0.752, -0.744, -0.736, -0.728,\n",
              "        -0.72 , -0.712, -0.704, -0.696, -0.688, -0.68 , -0.672, -0.664,\n",
              "        -0.656, -0.648, -0.64 , -0.632, -0.624, -0.616, -0.608, -0.6  ,\n",
              "        -0.592, -0.584, -0.576, -0.568, -0.56 , -0.552, -0.544, -0.536,\n",
              "        -0.528, -0.52 , -0.512, -0.504, -0.496, -0.488, -0.48 , -0.472,\n",
              "        -0.464, -0.456, -0.448, -0.44 , -0.432, -0.424, -0.416, -0.408,\n",
              "        -0.4  , -0.392, -0.384, -0.376, -0.368, -0.36 , -0.352, -0.344,\n",
              "        -0.336, -0.328, -0.32 , -0.312, -0.304, -0.296, -0.288, -0.28 ,\n",
              "        -0.272, -0.264, -0.256, -0.248, -0.24 , -0.232, -0.224, -0.216,\n",
              "        -0.208, -0.2  , -0.192, -0.184, -0.176, -0.168, -0.16 , -0.152,\n",
              "        -0.144, -0.136, -0.128, -0.12 , -0.112, -0.104, -0.096, -0.088,\n",
              "        -0.08 , -0.072, -0.064, -0.056, -0.048, -0.04 , -0.032, -0.024,\n",
              "        -0.016, -0.008,  0.   ,  0.008,  0.016,  0.024,  0.032,  0.04 ,\n",
              "         0.048,  0.056,  0.064,  0.072,  0.08 ,  0.088,  0.096,  0.104,\n",
              "         0.112,  0.12 ,  0.128,  0.136,  0.144,  0.152,  0.16 ,  0.168,\n",
              "         0.176,  0.184,  0.192,  0.2  ,  0.208,  0.216,  0.224,  0.232,\n",
              "         0.24 ,  0.248,  0.256,  0.264,  0.272,  0.28 ,  0.288,  0.296,\n",
              "         0.304,  0.312,  0.32 ,  0.328,  0.336,  0.344,  0.352,  0.36 ,\n",
              "         0.368,  0.376,  0.384,  0.392,  0.4  ,  0.408,  0.416,  0.424,\n",
              "         0.432,  0.44 ,  0.448,  0.456,  0.464,  0.472,  0.48 ,  0.488,\n",
              "         0.496,  0.504,  0.512,  0.52 ,  0.528,  0.536,  0.544,  0.552,\n",
              "         0.56 ,  0.568,  0.576,  0.584,  0.592,  0.6  ,  0.608,  0.616,\n",
              "         0.624,  0.632,  0.64 ,  0.648,  0.656,  0.664,  0.672,  0.68 ,\n",
              "         0.688,  0.696,  0.704,  0.712,  0.72 ,  0.728,  0.736,  0.744,\n",
              "         0.752,  0.76 ,  0.768,  0.776,  0.784,  0.792,  0.8  ,  0.808,\n",
              "         0.816,  0.824,  0.832,  0.84 ,  0.848,  0.856,  0.864,  0.872,\n",
              "         0.88 ,  0.888,  0.896,  0.904,  0.912,  0.92 ,  0.928,  0.936,\n",
              "         0.944,  0.952,  0.96 ,  0.968,  0.976,  0.984,  0.992,  1.   ,\n",
              "         1.008,  1.016,  1.024,  1.032,  1.04 ,  1.048,  1.056,  1.064,\n",
              "         1.072,  1.08 ,  1.088,  1.096,  1.104,  1.112,  1.12 ,  1.128,\n",
              "         1.136,  1.144,  1.152,  1.16 ,  1.168,  1.176,  1.184,  1.192,\n",
              "         1.2  ,  1.208,  1.216,  1.224,  1.232,  1.24 ,  1.248,  1.256,\n",
              "         1.264,  1.272,  1.28 ,  1.288,  1.296,  1.304,  1.312,  1.32 ,\n",
              "         1.328,  1.336,  1.344,  1.352,  1.36 ,  1.368,  1.376,  1.384,\n",
              "         1.392,  1.4  ,  1.408,  1.416,  1.424,  1.432,  1.44 ,  1.448,\n",
              "         1.456,  1.464,  1.472,  1.48 ,  1.488,  1.496,  1.504,  1.512,\n",
              "         1.52 ,  1.528,  1.536,  1.544,  1.552,  1.56 ,  1.568,  1.576,\n",
              "         1.584,  1.592,  1.6  ,  1.608,  1.616,  1.624,  1.632,  1.64 ,\n",
              "         1.648,  1.656,  1.664,  1.672,  1.68 ,  1.688,  1.696,  1.704,\n",
              "         1.712,  1.72 ,  1.728,  1.736,  1.744,  1.752,  1.76 ,  1.768,\n",
              "         1.776,  1.784,  1.792,  1.8  ,  1.808,  1.816,  1.824,  1.832,\n",
              "         1.84 ,  1.848,  1.856,  1.864,  1.872,  1.88 ,  1.888,  1.896,\n",
              "         1.904,  1.912,  1.92 ,  1.928,  1.936,  1.944,  1.952,  1.96 ,\n",
              "         1.968,  1.976,  1.984,  1.992,  2.   ]),\n",
              " <a list of 500 Patch objects>)"
            ]
          },
          "metadata": {
            "tags": []
          },
          "execution_count": 37
        },
        {
          "output_type": "display_data",
          "data": {
            "image/png": "[encoded data removed]",
            "text/plain": [
              "<Figure size 432x288 with 1 Axes>"
            ]
          },
          "metadata": {
            "tags": [],
            "needs_background": "light"
          }
        }
      ]
    },
    {
      "cell_type": "markdown",
      "metadata": {
        "id": "upy7dT4bc9jr"
      },
      "source": [
        "**[Problem 4] Addition of data**"
      ]
    },
    {
      "cell_type": "code",
      "metadata": {
        "id": "mQ2eUs-gdAkb"
      },
      "source": [
        "cov2 = [[1.0, 0.8],\n",
        "[0.8, 1.0]]\n",
        "mean2 = [0, -3]"
      ],
      "execution_count": 42,
      "outputs": []
    },
    {
      "cell_type": "code",
      "metadata": {
        "id": "2_yeyZV9mnXj"
      },
      "source": [
        "np.random.seed(0)\n",
        "dummy_data2 = np.random.multivariate_normal(mean2, cov2, size)"
      ],
      "execution_count": 43,
      "outputs": []
    },
    {
      "cell_type": "code",
      "metadata": {
        "id": "B21yAoI0m2UV",
        "outputId": "dc3d50f0-9740-45f9-ae3c-f569789e2892",
        "colab": {
          "base_uri": "https://localhost:8080/",
          "height": 282
        }
      },
      "source": [
        "p1 = plt.scatter(dummy_data1[:, 0], dummy_data[:, 1], color='blue')\n",
        "p2 = plt.scatter(dummy_data2[:, 0], dummy_data2[:, 1], color='orange')\n",
        "plt.legend((p1, p2),\n",
        "           ('1', '2'),\n",
        "           scatterpoints=1,\n",
        "           loc='upper right',\n",
        "           ncol=1,\n",
        "           fontsize=8)"
      ],
      "execution_count": 63,
      "outputs": [
        {
          "output_type": "execute_result",
          "data": {
            "text/plain": [
              "<matplotlib.legend.Legend at 0x7fbf032c2290>"
            ]
          },
          "metadata": {
            "tags": []
          },
          "execution_count": 63
        },
        {
          "output_type": "display_data",
          "data": {
            "image/png": "[encoded data removed]",
            "text/plain": [
              "<Figure size 432x288 with 1 Axes>"
            ]
          },
          "metadata": {
            "tags": [],
            "needs_background": "light"
          }
        }
      ]
    },
    {
      "cell_type": "markdown",
      "metadata": {
        "id": "xkXTiBzedAsM"
      },
      "source": [
        "**[Problem 5] Data combination**"
      ]
    },
    {
      "cell_type": "code",
      "metadata": {
        "id": "Uo-IicgtdD3Z"
      },
      "source": [
        "dummy_data = np.vstack([dummy_data1, dummy_data2])"
      ],
      "execution_count": 65,
      "outputs": []
    },
    {
      "cell_type": "markdown",
      "metadata": {
        "id": "Qm-dR-wAdEB9"
      },
      "source": [
        "**[Problem 6] Labeling**"
      ]
    },
    {
      "cell_type": "code",
      "metadata": {
        "id": "PCD8xbFKo_O9",
        "outputId": "ad89d53d-4e55-46f3-d1d5-5b8f31e31119",
        "colab": {
          "base_uri": "https://localhost:8080/"
        }
      },
      "source": [
        "label0 = np.full((500,1), 0)\n",
        "label1 = np.full((500,1), 1)\n",
        "label = np.concatenate((label0, label1), axis=0)\n",
        "np.concatenate((dummy_data, label), axis=1)"
      ],
      "execution_count": 68,
      "outputs": [
        {
          "output_type": "execute_result",
          "data": {
            "text/plain": [
              "array([[-1.23594765,  0.40015721,  0.        ],\n",
              "       [-2.02126202,  2.2408932 ,  0.        ],\n",
              "       [-1.13244201, -0.97727788,  0.        ],\n",
              "       ...,\n",
              "       [-0.40484501, -3.14372258,  1.        ],\n",
              "       [ 0.1584315 , -2.78199606,  1.        ],\n",
              "       [ 1.20196495, -2.02452628,  1.        ]])"
            ]
          },
          "metadata": {
            "tags": []
          },
          "execution_count": 68
        }
      ]
    }
  ]
}