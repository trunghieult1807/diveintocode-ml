{
  "nbformat": 4,
  "nbformat_minor": 0,
  "metadata": {
    "colab": {
      "name": "[Week2]Assm_3",
      "provenance": [],
      "collapsed_sections": []
    },
    "kernelspec": {
      "name": "python3",
      "display_name": "Python 3"
    },
    "language_info": {
      "name": "python"
    }
  },
  "cells": [
    {
      "cell_type": "code",
      "metadata": {
        "id": "dmNhpRt8tZAI"
      },
      "source": [
        "import numpy as np\n",
        "import matplotlib.pyplot as plt"
      ],
      "execution_count": 24,
      "outputs": []
    },
    {
      "cell_type": "markdown",
      "metadata": {
        "id": "d1W395WNtn6Z"
      },
      "source": [
        "**[Problem 1] Matrix product is calculated manually**\n",
        "\n",
        "For matrix multiplication, we just need to take the scala multiplication of the row of the first matrix with the corresponding column of the second matrix, then sum them all together."
      ]
    },
    {
      "cell_type": "code",
      "metadata": {
        "id": "p3cGlolatnbh"
      },
      "source": [
        "a_ndarray = np.array([[-1, 2, 3], \n",
        "                      [4, -5, 6], \n",
        "                      [7, 8, -9]])\n",
        "b_ndarray = np.array([[0, 2, 1], \n",
        "                      [0, 2, -8], \n",
        "                      [2, 9, -1]])"
      ],
      "execution_count": 29,
      "outputs": []
    },
    {
      "cell_type": "code",
      "metadata": {
        "colab": {
          "base_uri": "https://localhost:8080/"
        },
        "id": "qIcJlMO847fT",
        "outputId": "fae8451e-167b-4b70-b16e-9977ef35c987"
      },
      "source": [
        "result = [[-1*0+2*0+3*2, -1*2+2*2+3*9, -1*1+2*-8+3*-1],\n",
        "          [4*0+-5*0+6*2,4*2-5*2+6*9, 4*1+-5*-8+6*-1],\n",
        "          [7*0+8*0+-9*2,7*2+8*2+-9*9,7*1+8*-8-9*-1]]\n",
        "result"
      ],
      "execution_count": 36,
      "outputs": [
        {
          "output_type": "execute_result",
          "data": {
            "text/plain": [
              "[[6, 29, -20], [12, 52, 38], [-18, -51, -48]]"
            ]
          },
          "metadata": {
            "tags": []
          },
          "execution_count": 36
        }
      ]
    },
    {
      "cell_type": "markdown",
      "metadata": {
        "id": "BwekyR3Ctwlv"
      },
      "source": [
        "**[Problem 2] Calculation by NumPy function**"
      ]
    },
    {
      "cell_type": "code",
      "metadata": {
        "colab": {
          "base_uri": "https://localhost:8080/"
        },
        "id": "h7nJE9aZ2qGm",
        "outputId": "d79d0b40-e141-496f-96f0-81363f79ed31"
      },
      "source": [
        "np.matmul(a_ndarray, b_ndarray)"
      ],
      "execution_count": 27,
      "outputs": [
        {
          "output_type": "execute_result",
          "data": {
            "text/plain": [
              "array([[  6,  29, -20],\n",
              "       [ 12,  52,  38],\n",
              "       [-18, -51, -48]])"
            ]
          },
          "metadata": {
            "tags": []
          },
          "execution_count": 27
        }
      ]
    },
    {
      "cell_type": "code",
      "metadata": {
        "colab": {
          "base_uri": "https://localhost:8080/"
        },
        "id": "hVExgO8_6ej2",
        "outputId": "ffc4e718-aa44-44e2-ed60-8bd87cd1ac66"
      },
      "source": [
        "np.dot(a_ndarray, b_ndarray)"
      ],
      "execution_count": 37,
      "outputs": [
        {
          "output_type": "execute_result",
          "data": {
            "text/plain": [
              "array([[  6,  29, -20],\n",
              "       [ 12,  52,  38],\n",
              "       [-18, -51, -48]])"
            ]
          },
          "metadata": {
            "tags": []
          },
          "execution_count": 37
        }
      ]
    },
    {
      "cell_type": "code",
      "metadata": {
        "colab": {
          "base_uri": "https://localhost:8080/"
        },
        "id": "4VDdh8YD6kGp",
        "outputId": "b4199056-26f9-4a60-9751-0520dd1489a0"
      },
      "source": [
        "a_ndarray@b_ndarray"
      ],
      "execution_count": 38,
      "outputs": [
        {
          "output_type": "execute_result",
          "data": {
            "text/plain": [
              "array([[  6,  29, -20],\n",
              "       [ 12,  52,  38],\n",
              "       [-18, -51, -48]])"
            ]
          },
          "metadata": {
            "tags": []
          },
          "execution_count": 38
        }
      ]
    },
    {
      "cell_type": "markdown",
      "metadata": {
        "id": "VWnYCDgrtv8V"
      },
      "source": [
        "**[Problem 3] Implementation of calculation of a certain element**"
      ]
    },
    {
      "cell_type": "code",
      "metadata": {
        "id": "7QmBYdcWtvuq",
        "colab": {
          "base_uri": "https://localhost:8080/"
        },
        "outputId": "c119fd3d-1b04-4419-b479-ef030bb332e5"
      },
      "source": [
        "scala_mul = 0\n",
        "for i in range(len(a_ndarray[0])):\n",
        "    scala_mul += a_ndarray[0][i]*b_ndarray[i][0]\n",
        "scala_mul"
      ],
      "execution_count": 40,
      "outputs": [
        {
          "output_type": "execute_result",
          "data": {
            "text/plain": [
              "6"
            ]
          },
          "metadata": {
            "tags": []
          },
          "execution_count": 40
        }
      ]
    },
    {
      "cell_type": "markdown",
      "metadata": {
        "id": "As2dP3j5tvd1"
      },
      "source": [
        "**[Problem 4] Creating a function that performs matrix multiplication**"
      ]
    },
    {
      "cell_type": "code",
      "metadata": {
        "colab": {
          "base_uri": "https://localhost:8080/"
        },
        "id": "fTxse0mt0Q2D",
        "outputId": "dd33a5ea-efbf-4322-a980-84db9f0a4886"
      },
      "source": [
        "def matrix_mul(a_ndarray, b_ndarray):  \n",
        "  result = np.empty([len(a_ndarray), len(b_ndarray[0])])\n",
        "  for i in range(len(a_ndarray)):\n",
        "    for j in range(len(b_ndarray[0])):\n",
        "        for k in range(len(b_ndarray)):\n",
        "            result[i][j] += a_ndarray[i][k] * b_ndarray[k][j]\n",
        "  return result"
      ],
      "execution_count": 32,
      "outputs": [
        {
          "output_type": "execute_result",
          "data": {
            "text/plain": [
              "array([[  6.,  29., -20.],\n",
              "       [ 12.,  52.,  38.],\n",
              "       [-18., -51., -48.]])"
            ]
          },
          "metadata": {
            "tags": []
          },
          "execution_count": 32
        }
      ]
    },
    {
      "cell_type": "code",
      "metadata": {
        "id": "P3ip7FxKyU-1"
      },
      "source": [
        ""
      ],
      "execution_count": null,
      "outputs": []
    },
    {
      "cell_type": "markdown",
      "metadata": {
        "id": "jULH-OpAyV6J"
      },
      "source": [
        "**[Problem 5] Judge the input whose calculation is not defined**"
      ]
    },
    {
      "cell_type": "code",
      "metadata": {
        "id": "3Z7bo9ALyVs4"
      },
      "source": [
        "def matrix_mul_judged(a_ndarray, b_ndarray):\n",
        "  if (len(a_ndarray[0]) != len(b_ndarray)):\n",
        "    print(\"Cannot multiply\")\n",
        "    return\n",
        "  result = np.empty([len(a_ndarray), len(b_ndarray[0])])\n",
        "  for i in range(len(a_ndarray)):\n",
        "    for j in range(len(b_ndarray[0])):\n",
        "        for k in range(len(b_ndarray)):\n",
        "            result[i][j] += a_ndarray[i][k] * b_ndarray[k][j]\n",
        "  return result"
      ],
      "execution_count": 41,
      "outputs": []
    },
    {
      "cell_type": "code",
      "metadata": {
        "id": "SQhIM3ru_NWQ"
      },
      "source": [
        "matrix_mul_judged(a_ndarray, [1,2,3])"
      ],
      "execution_count": null,
      "outputs": []
    },
    {
      "cell_type": "code",
      "metadata": {
        "colab": {
          "base_uri": "https://localhost:8080/"
        },
        "id": "YMg9__ro_IHC",
        "outputId": "7beaf61f-7d3c-4f13-b959-3133e0a7cc2a"
      },
      "source": [
        "matrix_mul_judged([[1,2],[3,4]], [1,2,3])"
      ],
      "execution_count": 42,
      "outputs": [
        {
          "output_type": "stream",
          "text": [
            "Cannot multiply\n"
          ],
          "name": "stdout"
        }
      ]
    },
    {
      "cell_type": "markdown",
      "metadata": {
        "id": "42nz2xLJyVSx"
      },
      "source": [
        "**[Problem 6] Transposition**"
      ]
    },
    {
      "cell_type": "code",
      "metadata": {
        "id": "NnR5J0R1yeGt"
      },
      "source": [
        "x_ndarray = np.array([[-1, 2, 3], \n",
        "                      [4, -5, 6], \n",
        "                      [7, 8, -9],\n",
        "                      [2, 3, 4]])\n",
        "y_ndarray = np.array([[0, 2, 1], \n",
        "                      [0, 2, -8], \n",
        "                      [2, 9, -1],\n",
        "                      [2, 3, 4]])"
      ],
      "execution_count": 43,
      "outputs": []
    },
    {
      "cell_type": "code",
      "metadata": {
        "colab": {
          "base_uri": "https://localhost:8080/",
          "height": 164
        },
        "id": "dH98bX1CIoYK",
        "outputId": "4b916def-229b-41e9-d0ff-1ed71fbc7901"
      },
      "source": [
        "np.matmul(x_ndarray, y_ndarray)"
      ],
      "execution_count": 44,
      "outputs": [
        {
          "output_type": "error",
          "ename": "ValueError",
          "evalue": "ignored",
          "traceback": [
            "\u001b[0;31m---------------------------------------------------------------------------\u001b[0m",
            "\u001b[0;31mValueError\u001b[0m                                Traceback (most recent call last)",
            "\u001b[0;32m<ipython-input-44-601b0df2ea0f>\u001b[0m in \u001b[0;36m<module>\u001b[0;34m()\u001b[0m\n\u001b[0;32m----> 1\u001b[0;31m \u001b[0mnp\u001b[0m\u001b[0;34m.\u001b[0m\u001b[0mmatmul\u001b[0m\u001b[0;34m(\u001b[0m\u001b[0mx_ndarray\u001b[0m\u001b[0;34m,\u001b[0m \u001b[0my_ndarray\u001b[0m\u001b[0;34m)\u001b[0m\u001b[0;34m\u001b[0m\u001b[0;34m\u001b[0m\u001b[0m\n\u001b[0m",
            "\u001b[0;31mValueError\u001b[0m: matmul: Input operand 1 has a mismatch in its core dimension 0, with gufunc signature (n?,k),(k,m?)->(n?,m?) (size 4 is different from 3)"
          ]
        }
      ]
    },
    {
      "cell_type": "code",
      "metadata": {
        "colab": {
          "base_uri": "https://localhost:8080/"
        },
        "id": "_lyn3g5aIvsj",
        "outputId": "ef95a768-eb4e-4701-99a9-99a1f2610cf3"
      },
      "source": [
        "np.matmul(np.transpose(x_ndarray), y_ndarray)"
      ],
      "execution_count": 45,
      "outputs": [
        {
          "output_type": "execute_result",
          "data": {
            "text/plain": [
              "array([[ 18,  75, -32],\n",
              "       [ 22,  75,  46],\n",
              "       [-10, -51, -20]])"
            ]
          },
          "metadata": {
            "tags": []
          },
          "execution_count": 45
        }
      ]
    }
  ]
}