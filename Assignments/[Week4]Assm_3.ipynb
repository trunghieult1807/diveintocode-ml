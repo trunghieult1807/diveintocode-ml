{
  "nbformat": 4,
  "nbformat_minor": 0,
  "metadata": {
    "colab": {
      "name": "[Week4]Assm_3",
      "provenance": [],
      "collapsed_sections": []
    },
    "kernelspec": {
      "name": "python3",
      "display_name": "Python 3"
    },
    "language_info": {
      "name": "python"
    }
  },
  "cells": [
    {
      "cell_type": "markdown",
      "metadata": {
        "id": "ScHsvUAVrnMc"
      },
      "source": [
        "**<h1><center>Utilization of object orientation</center></h1>**"
      ]
    },
    {
      "cell_type": "markdown",
      "metadata": {
        "id": "Li6gwPrSrfNV"
      },
      "source": [
        "**[Problem 1] Enumeration of classes used so far**"
      ]
    },
    {
      "cell_type": "markdown",
      "metadata": {
        "id": "FCEj4VacrhO3"
      },
      "source": [
        "*  In pandas, we have: GroupBy, Dataframe, Series, ...\n",
        "*  In matplotlib, we have: Legend, Figure, SubFigure, ...\n",
        "*  In sklearn, we have: StandardScaler, SVC, SVR,\n",
        "\n",
        "\n",
        "\n",
        "\n"
      ]
    },
    {
      "cell_type": "markdown",
      "metadata": {
        "id": "i2B3VQM_vUkf"
      },
      "source": [
        "**[Problem 2] Enumeration of methods and instance variables used so far**"
      ]
    },
    {
      "cell_type": "markdown",
      "metadata": {
        "id": "m7gz6M6KzCEF"
      },
      "source": [
        "Some methods used belonging to class:\n",
        "\n",
        "*   pandas: head(), tail(), info(), describe(), drop(), isnull(), notnull(), ...\n",
        "*   matplotlib: plot(), set_xlabel(), set_ylabel(), set_title(), show(), ...\n",
        "*   sklearn: fit(), fit_transform(), transform(), predict(), accuracy_score(), ...\n",
        "\n",
        "\n",
        "\n"
      ]
    },
    {
      "cell_type": "markdown",
      "metadata": {
        "id": "tb-yS-B272N-"
      },
      "source": [
        "**[Problem 3] Creating a standardized class by scratch**"
      ]
    },
    {
      "cell_type": "code",
      "metadata": {
        "id": "Wov7TfykpwtE"
      },
      "source": [
        "class ScratchStandardScaler():\n",
        "    \"\"\"\n",
        "    標準化のためのクラス\n",
        "    Attributes\n",
        "    ----------\n",
        "    mean_ : 次の形のndarray, shape(n_features,)\n",
        "        平均\n",
        "    var_ : 次の形のndarray, shape(n_features,)\n",
        "        分散\n",
        "    \"\"\"\n",
        "    def fit(self, X):\n",
        "        \"\"\"\n",
        "        標準化のために平均と標準偏差を計算する。\n",
        "        Parameters\n",
        "        ----------\n",
        "        X : 次の形のndarray, shape (n_samples, n_features)\n",
        "            訓練データ\n",
        "        \"\"\"\n",
        "        self.mean_ = np.mean(X, axis=0)\n",
        "        self.var_ = np.var(X, axis=0)\n",
        "    def transform(self, X):\n",
        "        \"\"\"\n",
        "        fitで求めた値を使い標準化を行う。\n",
        "        Parameters\n",
        "        ----------\n",
        "        X : 次の形のndarray, shape (n_samples, n_features)\n",
        "            特徴量\n",
        "        Returns\n",
        "        ----------\n",
        "        X_scaled : 次の形のndarray, shape (n_samples, n_features)\n",
        "            標準化された特緒量\n",
        "        \"\"\"\n",
        "        X_scaled = (X - self.mean_) / np.sqrt(self.var_)\n",
        "        return X_scaled"
      ],
      "execution_count": null,
      "outputs": []
    },
    {
      "cell_type": "code",
      "metadata": {
        "colab": {
          "base_uri": "https://localhost:8080/"
        },
        "id": "5UpSpzgM8ew4",
        "outputId": "7f784794-99d0-403a-ac42-5cb718a63c21"
      },
      "source": [
        "import numpy as np\n",
        "from sklearn.datasets import load_iris\n",
        "data = load_iris()\n",
        "X = data.data[:10]\n",
        "scratch_scaler = ScratchStandardScaler()\n",
        "scratch_scaler.fit(X)\n",
        "print(\"Mean : {}\".format(scratch_scaler.mean_))\n",
        "print(\"Var : {}\".format(scratch_scaler.var_))\n",
        "X_std = scratch_scaler.transform(X)\n",
        "print(X_std)"
      ],
      "execution_count": null,
      "outputs": [
        {
          "output_type": "stream",
          "text": [
            "Mean : [4.86 3.31 1.45 0.22]\n",
            "Var : [0.0764 0.0849 0.0105 0.0056]\n",
            "[[ 0.86828953  0.65207831 -0.48795004 -0.26726124]\n",
            " [ 0.14471492 -1.06391725 -0.48795004 -0.26726124]\n",
            " [-0.57885968 -0.37751902 -1.46385011 -0.26726124]\n",
            " [-0.94064699 -0.72071813  0.48795004 -0.26726124]\n",
            " [ 0.50650222  0.99527742 -0.48795004 -0.26726124]\n",
            " [ 1.95365143  2.02487476  2.43975018  2.40535118]\n",
            " [-0.94064699  0.3088792  -0.48795004  1.06904497]\n",
            " [ 0.50650222  0.3088792   0.48795004 -0.26726124]\n",
            " [-1.66422159 -1.40711636 -0.48795004 -0.26726124]\n",
            " [ 0.14471492 -0.72071813  0.48795004 -1.60356745]]\n"
          ],
          "name": "stdout"
        }
      ]
    },
    {
      "cell_type": "code",
      "metadata": {
        "colab": {
          "base_uri": "https://localhost:8080/"
        },
        "id": "w8ORlqEZ-Btj",
        "outputId": "b1f17d02-c5d3-42ae-c970-2006a452fb64"
      },
      "source": [
        "# Check with library\n",
        "from sklearn.preprocessing import StandardScaler\n",
        "scaler = StandardScaler()\n",
        "scaler.fit(X)\n",
        "print(\"Mean : {}\".format(scaler.mean_))\n",
        "print(\"Var : {}\".format(scaler.var_))\n",
        "X_std = scaler.transform(X)\n",
        "print(X_std)"
      ],
      "execution_count": null,
      "outputs": [
        {
          "output_type": "stream",
          "text": [
            "Mean : [4.86 3.31 1.45 0.22]\n",
            "Var : [0.0764 0.0849 0.0105 0.0056]\n",
            "[[ 0.86828953  0.65207831 -0.48795004 -0.26726124]\n",
            " [ 0.14471492 -1.06391725 -0.48795004 -0.26726124]\n",
            " [-0.57885968 -0.37751902 -1.46385011 -0.26726124]\n",
            " [-0.94064699 -0.72071813  0.48795004 -0.26726124]\n",
            " [ 0.50650222  0.99527742 -0.48795004 -0.26726124]\n",
            " [ 1.95365143  2.02487476  2.43975018  2.40535118]\n",
            " [-0.94064699  0.3088792  -0.48795004  1.06904497]\n",
            " [ 0.50650222  0.3088792   0.48795004 -0.26726124]\n",
            " [-1.66422159 -1.40711636 -0.48795004 -0.26726124]\n",
            " [ 0.14471492 -0.72071813  0.48795004 -1.60356745]]\n"
          ],
          "name": "stdout"
        }
      ]
    },
    {
      "cell_type": "markdown",
      "metadata": {
        "id": "RRS3gGvi98oe"
      },
      "source": [
        "**[Problem 4] Creating a class that performs 4 arithmetic operations**"
      ]
    },
    {
      "cell_type": "code",
      "metadata": {
        "colab": {
          "base_uri": "https://localhost:8080/"
        },
        "id": "e3ezNY2Q8fFk",
        "outputId": "608c1d6a-6a75-4df0-ff81-f7715d22d1c7"
      },
      "source": [
        "class ExampleClass():\n",
        "    \"\"\"\n",
        "    説明用の簡単なクラス\n",
        "    Parameters\n",
        "    ----------\n",
        "    value : float or int\n",
        "        初期値\n",
        "    Attributes\n",
        "    ----------\n",
        "    value : float or int\n",
        "        計算結果\n",
        "    \"\"\"\n",
        "    def __init__(self, value):\n",
        "        assert type(value) in [int, float], \"Initial value must be numeric\"\n",
        "        self.value = value\n",
        "        print(f\"Initial value {self.value} has been set\")\n",
        "        \n",
        "    def add(self, value2):\n",
        "        self.value += value2\n",
        "    \n",
        "    def subtract(self, value2):\n",
        "        self.value -= value2\n",
        "    \n",
        "    def multiply(self, value2):\n",
        "        self.value *= value2\n",
        "    \n",
        "    def divide(self, value2):\n",
        "        self.value /= value2\n",
        "example = ExampleClass(5)\n",
        "print(\"value : {}\".format(example.value))\n",
        "example.add(3)\n",
        "print(\"value : {}\".format(example.value))\n",
        "example.subtract(3)\n",
        "print(\"value : {}\".format(example.value))\n",
        "example.multiply(3)\n",
        "print(\"value : {}\".format(example.value))\n",
        "example.divide(2)\n",
        "print(\"value : {}\".format(example.value))"
      ],
      "execution_count": null,
      "outputs": [
        {
          "output_type": "stream",
          "text": [
            "Initial value 5 has been set\n",
            "value : 5\n",
            "value : 8\n",
            "value : 5\n",
            "value : 15\n",
            "value : 7.5\n"
          ],
          "name": "stdout"
        }
      ]
    },
    {
      "cell_type": "code",
      "metadata": {
        "colab": {
          "base_uri": "https://localhost:8080/",
          "height": 317
        },
        "id": "DwjCWikk-lVA",
        "outputId": "2f2e3452-9960-4a59-91bb-aba51cf35406"
      },
      "source": [
        "# Test invalid input\n",
        "error = ExampleClass('string')\n",
        "print(\"value: {}\".format(error.value))"
      ],
      "execution_count": null,
      "outputs": [
        {
          "output_type": "error",
          "ename": "AssertionError",
          "evalue": "ignored",
          "traceback": [
            "\u001b[0;31m---------------------------------------------------------------------------\u001b[0m",
            "\u001b[0;31mAssertionError\u001b[0m                            Traceback (most recent call last)",
            "\u001b[0;32m<ipython-input-13-dac29a8e2236>\u001b[0m in \u001b[0;36m<module>\u001b[0;34m()\u001b[0m\n\u001b[1;32m      1\u001b[0m \u001b[0;31m# Test invalid input\u001b[0m\u001b[0;34m\u001b[0m\u001b[0;34m\u001b[0m\u001b[0;34m\u001b[0m\u001b[0m\n\u001b[0;32m----> 2\u001b[0;31m \u001b[0merror\u001b[0m \u001b[0;34m=\u001b[0m \u001b[0mExampleClass\u001b[0m\u001b[0;34m(\u001b[0m\u001b[0;34m'string'\u001b[0m\u001b[0;34m)\u001b[0m\u001b[0;34m\u001b[0m\u001b[0;34m\u001b[0m\u001b[0m\n\u001b[0m\u001b[1;32m      3\u001b[0m \u001b[0mprint\u001b[0m\u001b[0;34m(\u001b[0m\u001b[0;34m\"value: {}\"\u001b[0m\u001b[0;34m.\u001b[0m\u001b[0mformat\u001b[0m\u001b[0;34m(\u001b[0m\u001b[0merror\u001b[0m\u001b[0;34m.\u001b[0m\u001b[0mvalue\u001b[0m\u001b[0;34m)\u001b[0m\u001b[0;34m)\u001b[0m\u001b[0;34m\u001b[0m\u001b[0;34m\u001b[0m\u001b[0m\n",
            "\u001b[0;32m<ipython-input-11-0d9a906418c2>\u001b[0m in \u001b[0;36m__init__\u001b[0;34m(self, value)\u001b[0m\n\u001b[1;32m     12\u001b[0m     \"\"\"\n\u001b[1;32m     13\u001b[0m     \u001b[0;32mdef\u001b[0m \u001b[0m__init__\u001b[0m\u001b[0;34m(\u001b[0m\u001b[0mself\u001b[0m\u001b[0;34m,\u001b[0m \u001b[0mvalue\u001b[0m\u001b[0;34m)\u001b[0m\u001b[0;34m:\u001b[0m\u001b[0;34m\u001b[0m\u001b[0;34m\u001b[0m\u001b[0m\n\u001b[0;32m---> 14\u001b[0;31m         \u001b[0;32massert\u001b[0m \u001b[0mtype\u001b[0m\u001b[0;34m(\u001b[0m\u001b[0mvalue\u001b[0m\u001b[0;34m)\u001b[0m \u001b[0;32min\u001b[0m \u001b[0;34m[\u001b[0m\u001b[0mint\u001b[0m\u001b[0;34m,\u001b[0m \u001b[0mfloat\u001b[0m\u001b[0;34m]\u001b[0m\u001b[0;34m,\u001b[0m \u001b[0;34m\"Initial value must be numeric\"\u001b[0m\u001b[0;34m\u001b[0m\u001b[0;34m\u001b[0m\u001b[0m\n\u001b[0m\u001b[1;32m     15\u001b[0m         \u001b[0mself\u001b[0m\u001b[0;34m.\u001b[0m\u001b[0mvalue\u001b[0m \u001b[0;34m=\u001b[0m \u001b[0mvalue\u001b[0m\u001b[0;34m\u001b[0m\u001b[0;34m\u001b[0m\u001b[0m\n\u001b[1;32m     16\u001b[0m         \u001b[0mprint\u001b[0m\u001b[0;34m(\u001b[0m\u001b[0;34mf\"Initial value {self.value} has been set\"\u001b[0m\u001b[0;34m)\u001b[0m\u001b[0;34m\u001b[0m\u001b[0;34m\u001b[0m\u001b[0m\n",
            "\u001b[0;31mAssertionError\u001b[0m: Initial value must be numeric"
          ]
        }
      ]
    },
    {
      "cell_type": "code",
      "metadata": {
        "id": "Crxzszg5-9SN"
      },
      "source": [
        ""
      ],
      "execution_count": null,
      "outputs": []
    }
  ]
}