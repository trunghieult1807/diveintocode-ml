{
 "cells": [
  {
   "cell_type": "markdown",
   "metadata": {},
   "source": [
    "Learn the basic flow of machine learning and how to use the library through Kaggle datasets."
   ]
  },
  {
   "cell_type": "markdown",
   "metadata": {},
   "source": [
    "### Credit information\n",
    "\n",
    "Learn and estimate the **Home Credit Default Risk** competition on Kaggle.\n",
    "\n",
    "[Home credit](https://www.kaggle.com/c/home-credit-default-risk)"
   ]
  },
  {
   "cell_type": "markdown",
   "metadata": {},
   "source": [
    "##### [Problem 1] Confirmation of competition contents\n",
    "\n",
    "Read the overview page of the competition and check the following points about \"Home Credit Default Risk\".\n",
    "\n",
    "- What to learn and what to predict?\n",
    "- What kind of file to create and submit to Kaggle?\n",
    "- What kind of index value will be used to evaluate the submissions?"
   ]
  },
  {
   "cell_type": "markdown",
   "metadata": {},
   "source": [
    "### Creating a baseline model\n",
    "The first step is to create a **baseline** model using a simple method. This model is the standard for accuracy.\n",
    "\n",
    "It does not need to be highly accurate. The goal is to be able to run without errors and submit estimates to Kaggle."
   ]
  },
  {
   "cell_type": "markdown",
   "metadata": {},
   "source": [
    "##### [Problem 2] Learning and verification\n",
    "\n",
    "Create and execute a series of steps from easy analysis, preprocessing, learning, and verification of data.\n",
    "For verification, please use the evaluation metrics used in this competition. The method used for learning is not specified."
   ]
  },
  {
   "cell_type": "markdown",
   "metadata": {},
   "source": [
    "##### [Problem 3] Estimation on test data\n",
    "\n",
    "Perform the estimation on the test data (application_test.csv ) and submit it to Kaggle.\n",
    "It does not matter if the accuracy is low, as long as the submission is done correctly."
   ]
  },
  {
   "cell_type": "markdown",
   "metadata": {},
   "source": [
    "### Feature engineering\n",
    "\n",
    "Based on the baseline model, we will make various improvements to the input feature quantities to improve accuracy.\n",
    "\n",
    "##### [Problem 4] Feature engineering\n",
    "\n",
    "To improve accuracy, perform **Feature Engineering** from the following perspectives.\n",
    "\n",
    "- Which feature to use?\n",
    "- How to preprocess?\n",
    "\n",
    "Summarize what you did and how the evaluation metrics for the validation data turned out. Please conduct at least 5 patterns of training and validation.\n",
    "\n",
    "If the accuracy is high, please make an estimate for the test data and submit it to Kaggle."
   ]
  }
 ],
 "metadata": {
  "kernelspec": {
   "display_name": "Python 3",
   "language": "python",
   "name": "python3"
  },
  "language_info": {
   "codemirror_mode": {
    "name": "ipython",
    "version": 3
   },
   "file_extension": ".py",
   "mimetype": "text/x-python",
   "name": "python",
   "nbconvert_exporter": "python",
   "pygments_lexer": "ipython3",
   "version": "3.8.5"
  }
 },
 "nbformat": 4,
 "nbformat_minor": 4
}
